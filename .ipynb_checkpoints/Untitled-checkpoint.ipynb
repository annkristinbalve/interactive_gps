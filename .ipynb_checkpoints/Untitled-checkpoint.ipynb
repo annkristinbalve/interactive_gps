{
 "cells": [
  {
   "cell_type": "code",
   "execution_count": 2,
   "id": "43af2372-abfd-482e-9696-bf3ba14f32ad",
   "metadata": {},
   "outputs": [
    {
     "name": "stdout",
     "output_type": "stream",
     "text": [
      "Requirement already satisfied: dash in c:\\users\\saturn\\appdata\\local\\programs\\python\\python310\\lib\\site-packages (2.17.1)\n",
      "Requirement already satisfied: Flask<3.1,>=1.0.4 in c:\\users\\saturn\\appdata\\local\\programs\\python\\python310\\lib\\site-packages (from dash) (3.0.3)\n",
      "Requirement already satisfied: Werkzeug<3.1 in c:\\users\\saturn\\appdata\\local\\programs\\python\\python310\\lib\\site-packages (from dash) (3.0.3)\n",
      "Requirement already satisfied: plotly>=5.0.0 in c:\\users\\saturn\\appdata\\local\\programs\\python\\python310\\lib\\site-packages (from dash) (5.22.0)\n",
      "Requirement already satisfied: dash-html-components==2.0.0 in c:\\users\\saturn\\appdata\\local\\programs\\python\\python310\\lib\\site-packages (from dash) (2.0.0)\n",
      "Requirement already satisfied: dash-core-components==2.0.0 in c:\\users\\saturn\\appdata\\local\\programs\\python\\python310\\lib\\site-packages (from dash) (2.0.0)\n",
      "Requirement already satisfied: dash-table==5.0.0 in c:\\users\\saturn\\appdata\\local\\programs\\python\\python310\\lib\\site-packages (from dash) (5.0.0)\n",
      "Requirement already satisfied: importlib-metadata in c:\\users\\saturn\\appdata\\local\\programs\\python\\python310\\lib\\site-packages (from dash) (7.2.1)\n",
      "Requirement already satisfied: typing-extensions>=4.1.1 in c:\\users\\saturn\\appdata\\local\\programs\\python\\python310\\lib\\site-packages (from dash) (4.11.0)\n",
      "Requirement already satisfied: requests in c:\\users\\saturn\\appdata\\local\\programs\\python\\python310\\lib\\site-packages (from dash) (2.31.0)\n",
      "Requirement already satisfied: retrying in c:\\users\\saturn\\appdata\\local\\programs\\python\\python310\\lib\\site-packages (from dash) (1.3.4)\n",
      "Requirement already satisfied: nest-asyncio in c:\\users\\saturn\\appdata\\local\\programs\\python\\python310\\lib\\site-packages (from dash) (1.6.0)\n",
      "Requirement already satisfied: setuptools in c:\\users\\saturn\\appdata\\local\\programs\\python\\python310\\lib\\site-packages (from dash) (57.4.0)\n",
      "Requirement already satisfied: Jinja2>=3.1.2 in c:\\users\\saturn\\appdata\\local\\programs\\python\\python310\\lib\\site-packages (from Flask<3.1,>=1.0.4->dash) (3.1.4)\n",
      "Requirement already satisfied: itsdangerous>=2.1.2 in c:\\users\\saturn\\appdata\\local\\programs\\python\\python310\\lib\\site-packages (from Flask<3.1,>=1.0.4->dash) (2.2.0)\n",
      "Requirement already satisfied: click>=8.1.3 in c:\\users\\saturn\\appdata\\local\\programs\\python\\python310\\lib\\site-packages (from Flask<3.1,>=1.0.4->dash) (8.1.7)\n",
      "Requirement already satisfied: blinker>=1.6.2 in c:\\users\\saturn\\appdata\\local\\programs\\python\\python310\\lib\\site-packages (from Flask<3.1,>=1.0.4->dash) (1.8.2)\n",
      "Requirement already satisfied: tenacity>=6.2.0 in c:\\users\\saturn\\appdata\\local\\programs\\python\\python310\\lib\\site-packages (from plotly>=5.0.0->dash) (8.4.2)\n",
      "Requirement already satisfied: packaging in c:\\users\\saturn\\appdata\\local\\programs\\python\\python310\\lib\\site-packages (from plotly>=5.0.0->dash) (24.0)\n",
      "Requirement already satisfied: MarkupSafe>=2.1.1 in c:\\users\\saturn\\appdata\\local\\programs\\python\\python310\\lib\\site-packages (from Werkzeug<3.1->dash) (2.1.5)\n",
      "Requirement already satisfied: zipp>=0.5 in c:\\users\\saturn\\appdata\\local\\programs\\python\\python310\\lib\\site-packages (from importlib-metadata->dash) (3.18.1)\n",
      "Requirement already satisfied: charset-normalizer<4,>=2 in c:\\users\\saturn\\appdata\\local\\programs\\python\\python310\\lib\\site-packages (from requests->dash) (3.3.2)\n",
      "Requirement already satisfied: idna<4,>=2.5 in c:\\users\\saturn\\appdata\\local\\programs\\python\\python310\\lib\\site-packages (from requests->dash) (3.7)\n",
      "Requirement already satisfied: urllib3<3,>=1.21.1 in c:\\users\\saturn\\appdata\\local\\programs\\python\\python310\\lib\\site-packages (from requests->dash) (2.2.1)\n",
      "Requirement already satisfied: certifi>=2017.4.17 in c:\\users\\saturn\\appdata\\local\\programs\\python\\python310\\lib\\site-packages (from requests->dash) (2024.2.2)\n",
      "Requirement already satisfied: six>=1.7.0 in c:\\users\\saturn\\appdata\\local\\programs\\python\\python310\\lib\\site-packages (from retrying->dash) (1.16.0)\n",
      "Requirement already satisfied: colorama in c:\\users\\saturn\\appdata\\local\\programs\\python\\python310\\lib\\site-packages (from click>=8.1.3->Flask<3.1,>=1.0.4->dash) (0.4.6)\n"
     ]
    },
    {
     "name": "stderr",
     "output_type": "stream",
     "text": [
      "\n",
      "[notice] A new release of pip is available: 24.0 -> 24.1\n",
      "[notice] To update, run: C:\\Users\\saturn\\AppData\\Local\\Programs\\Python\\Python310\\python.exe -m pip install --upgrade pip\n"
     ]
    }
   ],
   "source": [
    "!pip install dash"
   ]
  }
 ],
 "metadata": {
  "kernelspec": {
   "display_name": "Python 3 (ipykernel)",
   "language": "python",
   "name": "python3"
  },
  "language_info": {
   "codemirror_mode": {
    "name": "ipython",
    "version": 3
   },
   "file_extension": ".py",
   "mimetype": "text/x-python",
   "name": "python",
   "nbconvert_exporter": "python",
   "pygments_lexer": "ipython3",
   "version": "3.12.4"
  }
 },
 "nbformat": 4,
 "nbformat_minor": 5
}
