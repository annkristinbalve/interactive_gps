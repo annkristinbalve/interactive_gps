{
 "cells": [
  {
   "cell_type": "code",
   "execution_count": 5,
   "id": "43af2372-abfd-482e-9696-bf3ba14f32ad",
   "metadata": {},
   "outputs": [
    {
     "name": "stdout",
     "output_type": "stream",
     "text": [
      "3.12.4\n"
     ]
    }
   ],
   "source": [
    "from platform import python_version\n",
    "\n",
    "print(python_version())"
   ]
  },
  {
   "cell_type": "code",
   "execution_count": 10,
   "id": "cd287fa8-2f6a-47f9-959f-d4cf65668765",
   "metadata": {},
   "outputs": [
    {
     "name": "stdout",
     "output_type": "stream",
     "text": [
      "Package                   Version\n",
      "------------------------- --------------\n",
      "absl-py                   2.1.0\n",
      "anyio                     4.3.0\n",
      "argon2-cffi               23.1.0\n",
      "argon2-cffi-bindings      21.2.0\n",
      "arrow                     1.3.0\n",
      "asttokens                 2.4.1\n",
      "async-lru                 2.0.4\n",
      "attrs                     23.2.0\n",
      "Babel                     2.15.0\n",
      "beartype                  0.16.4\n",
      "beautifulsoup4            4.12.3\n",
      "bleach                    6.1.0\n",
      "blinker                   1.8.2\n",
      "certifi                   2024.2.2\n",
      "cffi                      1.16.0\n",
      "charset-normalizer        3.3.2\n",
      "chex                      0.1.86\n",
      "click                     8.1.7\n",
      "cloudpickle               3.0.0\n",
      "cola-ml                   0.0.5\n",
      "cola-plum-dispatch        0.1.4\n",
      "colorama                  0.4.6\n",
      "comm                      0.2.2\n",
      "contourpy                 1.2.1\n",
      "cycler                    0.12.1\n",
      "dash                      2.17.1\n",
      "dash-core-components      2.0.0\n",
      "dash-html-components      2.0.0\n",
      "dash-table                5.0.0\n",
      "debugpy                   1.8.1\n",
      "decorator                 5.1.1\n",
      "defusedxml                0.7.1\n",
      "dm-tree                   0.1.8\n",
      "etils                     1.7.0\n",
      "exceptiongroup            1.2.1\n",
      "executing                 2.0.1\n",
      "fastjsonschema            2.19.1\n",
      "Flask                     3.0.3\n",
      "fonttools                 4.51.0\n",
      "fqdn                      1.5.1\n",
      "fsspec                    2024.3.1\n",
      "gast                      0.5.4\n",
      "gpjax                     0.8.2\n",
      "h11                       0.14.0\n",
      "httpcore                  1.0.5\n",
      "httpx                     0.27.0\n",
      "idna                      3.7\n",
      "importlib_metadata        7.2.1\n",
      "importlib_resources       6.4.0\n",
      "ipykernel                 6.29.4\n",
      "ipython                   8.24.0\n",
      "ipywidgets                8.1.2\n",
      "isoduration               20.11.0\n",
      "itsdangerous              2.2.0\n",
      "jax                       0.4.27\n",
      "jaxlib                    0.4.27\n",
      "jaxopt                    0.8.3\n",
      "jaxtyping                 0.2.28\n",
      "jedi                      0.19.1\n",
      "Jinja2                    3.1.4\n",
      "json5                     0.9.25\n",
      "jsonpointer               2.4\n",
      "jsonschema                4.22.0\n",
      "jsonschema-specifications 2023.12.1\n",
      "jupyter                   1.0.0\n",
      "jupyter_client            8.6.1\n",
      "jupyter-console           6.6.3\n",
      "jupyter_core              5.7.2\n",
      "jupyter-events            0.10.0\n",
      "jupyter-lsp               2.2.5\n",
      "jupyter_server            2.14.0\n",
      "jupyter_server_terminals  0.5.3\n",
      "jupyterlab                4.1.8\n",
      "jupyterlab_pygments       0.3.0\n",
      "jupyterlab_server         2.27.1\n",
      "jupyterlab_widgets        3.0.10\n",
      "kiwisolver                1.4.5\n",
      "MarkupSafe                2.1.5\n",
      "matplotlib                3.8.4\n",
      "matplotlib-inline         0.1.7\n",
      "mistune                   3.0.2\n",
      "ml-dtypes                 0.4.0\n",
      "msgpack                   1.0.8\n",
      "nbclient                  0.10.0\n",
      "nbconvert                 7.16.4\n",
      "nbformat                  5.10.4\n",
      "nest-asyncio              1.6.0\n",
      "notebook                  7.1.3\n",
      "notebook_shim             0.2.4\n",
      "numpy                     1.26.4\n",
      "opt-einsum                3.3.0\n",
      "optax                     0.1.9\n",
      "optree                    0.11.0\n",
      "orbax-checkpoint          0.5.10\n",
      "overrides                 7.7.0\n",
      "packaging                 24.0\n",
      "pandocfilters             1.5.1\n",
      "parso                     0.8.4\n",
      "pillow                    10.3.0\n",
      "pip                       24.0\n",
      "platformdirs              4.2.1\n",
      "plotly                    5.22.0\n",
      "prometheus_client         0.20.0\n",
      "prompt-toolkit            3.0.43\n",
      "protobuf                  5.26.1\n",
      "psutil                    5.9.8\n",
      "pure-eval                 0.2.2\n",
      "pycparser                 2.22\n",
      "Pygments                  2.18.0\n",
      "pyparsing                 3.1.2\n",
      "python-dateutil           2.9.0.post0\n",
      "python-json-logger        2.0.7\n",
      "pytreeclass               0.9.2\n",
      "pywin32                   306\n",
      "pywinpty                  2.0.13\n",
      "PyYAML                    6.0.1\n",
      "pyzmq                     26.0.3\n",
      "qtconsole                 5.5.2\n",
      "QtPy                      2.4.1\n",
      "referencing               0.35.1\n",
      "requests                  2.31.0\n",
      "retrying                  1.3.4\n",
      "rfc3339-validator         0.1.4\n",
      "rfc3986-validator         0.1.1\n",
      "rpds-py                   0.18.1\n",
      "scipy                     1.13.0\n",
      "Send2Trash                1.8.3\n",
      "setuptools                57.4.0\n",
      "simple-pytree             0.1.7\n",
      "six                       1.16.0\n",
      "sniffio                   1.3.1\n",
      "soupsieve                 2.5\n",
      "stack-data                0.6.3\n",
      "tenacity                  8.4.2\n",
      "tensorflow-probability    0.22.1\n",
      "tensorstore               0.1.59\n",
      "terminado                 0.18.1\n",
      "tinycss2                  1.3.0\n",
      "tomli                     2.0.1\n",
      "toolz                     0.12.1\n",
      "tornado                   6.4\n",
      "tqdm                      4.66.4\n",
      "traitlets                 5.14.3\n",
      "typeguard                 2.13.3\n",
      "types-python-dateutil     2.9.0.20240316\n",
      "typing_extensions         4.11.0\n",
      "uri-template              1.3.0\n",
      "urllib3                   2.2.1\n",
      "wcwidth                   0.2.13\n",
      "webcolors                 1.13\n",
      "webencodings              0.5.1\n",
      "websocket-client          1.8.0\n",
      "Werkzeug                  3.0.3\n",
      "widgetsnbextension        4.0.10\n",
      "zipp                      3.18.1\n"
     ]
    },
    {
     "name": "stderr",
     "output_type": "stream",
     "text": [
      "\n",
      "[notice] A new release of pip is available: 24.0 -> 24.1\n",
      "[notice] To update, run: C:\\Users\\saturn\\AppData\\Local\\Programs\\Python\\Python310\\python.exe -m pip install --upgrade pip\n"
     ]
    }
   ],
   "source": [
    "!pip list"
   ]
  },
  {
   "cell_type": "code",
   "execution_count": 20,
   "id": "463bb044-da05-49c4-8eb8-457a3ac879e1",
   "metadata": {},
   "outputs": [
    {
     "name": "stdout",
     "output_type": "stream",
     "text": [
      "C:\\Users\\saturn\\AppData\\Local\\Programs\\Python\\Python312\\python.exe\n"
     ]
    }
   ],
   "source": [
    "import sys\n",
    "print(sys.executable)\n",
    "from dash import Dash, html\n"
   ]
  },
  {
   "cell_type": "code",
   "execution_count": 15,
   "id": "5bd47bad-d379-4d78-90a9-46960e50f74e",
   "metadata": {},
   "outputs": [
    {
     "name": "stdout",
     "output_type": "stream",
     "text": [
      "Collecting pip\n",
      "  Downloading pip-24.1-py3-none-any.whl.metadata (3.6 kB)\n",
      "Collecting wheel\n",
      "  Using cached wheel-0.43.0-py3-none-any.whl.metadata (2.2 kB)\n",
      "Downloading pip-24.1-py3-none-any.whl (1.8 MB)\n",
      "   ---------------------------------------- 0.0/1.8 MB ? eta -:--:--\n",
      "   ---------------------------------------- 0.0/1.8 MB ? eta -:--:--\n",
      "   ---------------------------------------- 0.0/1.8 MB ? eta -:--:--\n",
      "   ---------------------------------------- 0.0/1.8 MB ? eta -:--:--\n",
      "    --------------------------------------- 0.0/1.8 MB 186.2 kB/s eta 0:00:10\n",
      "    --------------------------------------- 0.0/1.8 MB 195.7 kB/s eta 0:00:10\n",
      "   - -------------------------------------- 0.1/1.8 MB 272.3 kB/s eta 0:00:07\n",
      "   -- ------------------------------------- 0.1/1.8 MB 479.3 kB/s eta 0:00:04\n",
      "   ---- ----------------------------------- 0.2/1.8 MB 737.3 kB/s eta 0:00:03\n",
      "   ------ --------------------------------- 0.3/1.8 MB 840.4 kB/s eta 0:00:02\n",
      "   -------- ------------------------------- 0.4/1.8 MB 995.6 kB/s eta 0:00:02\n",
      "   --------- ------------------------------ 0.5/1.8 MB 1.1 MB/s eta 0:00:02\n",
      "   ----------- ---------------------------- 0.5/1.8 MB 1.2 MB/s eta 0:00:02\n",
      "   ------------- -------------------------- 0.6/1.8 MB 1.2 MB/s eta 0:00:02\n",
      "   -------------- ------------------------- 0.7/1.8 MB 1.2 MB/s eta 0:00:01\n",
      "   --------------- ------------------------ 0.7/1.8 MB 1.2 MB/s eta 0:00:01\n",
      "   ---------------- ----------------------- 0.7/1.8 MB 1.2 MB/s eta 0:00:01\n",
      "   ------------------ --------------------- 0.8/1.8 MB 1.2 MB/s eta 0:00:01\n",
      "   ------------------- -------------------- 0.9/1.8 MB 1.3 MB/s eta 0:00:01\n",
      "   --------------------- ------------------ 1.0/1.8 MB 1.3 MB/s eta 0:00:01\n",
      "   ----------------------- ---------------- 1.1/1.8 MB 1.3 MB/s eta 0:00:01\n",
      "   ------------------------- -------------- 1.1/1.8 MB 1.3 MB/s eta 0:00:01\n",
      "   --------------------------- ------------ 1.3/1.8 MB 1.4 MB/s eta 0:00:01\n",
      "   ------------------------------ --------- 1.4/1.8 MB 1.5 MB/s eta 0:00:01\n",
      "   --------------------------------- ------ 1.5/1.8 MB 1.5 MB/s eta 0:00:01\n",
      "   ----------------------------------- ---- 1.6/1.8 MB 1.5 MB/s eta 0:00:01\n",
      "   ------------------------------------- -- 1.7/1.8 MB 1.6 MB/s eta 0:00:01\n",
      "   -------------------------------------- - 1.8/1.8 MB 1.6 MB/s eta 0:00:01\n",
      "   ---------------------------------------- 1.8/1.8 MB 1.5 MB/s eta 0:00:00\n",
      "Using cached wheel-0.43.0-py3-none-any.whl (65 kB)\n",
      "Installing collected packages: wheel, pip\n",
      "Successfully installed pip-24.1 wheel-0.43.0\n"
     ]
    }
   ],
   "source": [
    "!C:\\Users\\saturn\\AppData\\Local\\Programs\\Python\\Python312\\python.exe get-pip.py"
   ]
  },
  {
   "cell_type": "code",
   "execution_count": 16,
   "id": "912e5916-8d73-43ac-a690-adbcfdb45f2d",
   "metadata": {},
   "outputs": [
    {
     "name": "stdout",
     "output_type": "stream",
     "text": [
      "pip 24.1 from C:\\Users\\saturn\\AppData\\Local\\Programs\\Python\\Python312\\Lib\\site-packages\\pip (python 3.12)\n",
      "\n"
     ]
    }
   ],
   "source": [
    "!C:\\Users\\saturn\\AppData\\Local\\Programs\\Python\\Python312\\python.exe -m pip --version"
   ]
  },
  {
   "cell_type": "code",
   "execution_count": 17,
   "id": "94d6e534-e25f-4fa6-a39c-7b3f6873f7a1",
   "metadata": {},
   "outputs": [
    {
     "name": "stdout",
     "output_type": "stream",
     "text": [
      "Collecting dash\n",
      "  Using cached dash-2.17.1-py3-none-any.whl.metadata (10 kB)\n",
      "Collecting Flask<3.1,>=1.0.4 (from dash)\n",
      "  Using cached flask-3.0.3-py3-none-any.whl.metadata (3.2 kB)\n",
      "Collecting Werkzeug<3.1 (from dash)\n",
      "  Using cached werkzeug-3.0.3-py3-none-any.whl.metadata (3.7 kB)\n",
      "Requirement already satisfied: plotly>=5.0.0 in c:\\users\\saturn\\appdata\\local\\programs\\python\\python312\\lib\\site-packages (from dash) (5.22.0)\n",
      "Collecting dash-html-components==2.0.0 (from dash)\n",
      "  Using cached dash_html_components-2.0.0-py3-none-any.whl.metadata (3.8 kB)\n",
      "Collecting dash-core-components==2.0.0 (from dash)\n",
      "  Using cached dash_core_components-2.0.0-py3-none-any.whl.metadata (2.9 kB)\n",
      "Collecting dash-table==5.0.0 (from dash)\n",
      "  Using cached dash_table-5.0.0-py3-none-any.whl.metadata (2.4 kB)\n",
      "Collecting importlib-metadata (from dash)\n",
      "  Using cached importlib_metadata-7.2.1-py3-none-any.whl.metadata (4.6 kB)\n",
      "Requirement already satisfied: typing-extensions>=4.1.1 in c:\\users\\saturn\\appdata\\local\\programs\\python\\python312\\lib\\site-packages (from dash) (4.11.0)\n",
      "Requirement already satisfied: requests in c:\\users\\saturn\\appdata\\local\\programs\\python\\python312\\lib\\site-packages (from dash) (2.31.0)\n",
      "Collecting retrying (from dash)\n",
      "  Using cached retrying-1.3.4-py3-none-any.whl.metadata (6.9 kB)\n",
      "Requirement already satisfied: nest-asyncio in c:\\users\\saturn\\appdata\\local\\programs\\python\\python312\\lib\\site-packages (from dash) (1.6.0)\n",
      "Requirement already satisfied: setuptools in c:\\users\\saturn\\appdata\\local\\programs\\python\\python312\\lib\\site-packages (from dash) (69.5.1)\n",
      "Requirement already satisfied: Jinja2>=3.1.2 in c:\\users\\saturn\\appdata\\local\\programs\\python\\python312\\lib\\site-packages (from Flask<3.1,>=1.0.4->dash) (3.1.4)\n",
      "Collecting itsdangerous>=2.1.2 (from Flask<3.1,>=1.0.4->dash)\n",
      "  Using cached itsdangerous-2.2.0-py3-none-any.whl.metadata (1.9 kB)\n",
      "Collecting click>=8.1.3 (from Flask<3.1,>=1.0.4->dash)\n",
      "  Using cached click-8.1.7-py3-none-any.whl.metadata (3.0 kB)\n",
      "Collecting blinker>=1.6.2 (from Flask<3.1,>=1.0.4->dash)\n",
      "  Using cached blinker-1.8.2-py3-none-any.whl.metadata (1.6 kB)\n",
      "Requirement already satisfied: tenacity>=6.2.0 in c:\\users\\saturn\\appdata\\local\\programs\\python\\python312\\lib\\site-packages (from plotly>=5.0.0->dash) (8.3.0)\n",
      "Requirement already satisfied: packaging in c:\\users\\saturn\\appdata\\local\\programs\\python\\python312\\lib\\site-packages (from plotly>=5.0.0->dash) (24.0)\n",
      "Requirement already satisfied: MarkupSafe>=2.1.1 in c:\\users\\saturn\\appdata\\local\\programs\\python\\python312\\lib\\site-packages (from Werkzeug<3.1->dash) (2.1.5)\n",
      "Collecting zipp>=0.5 (from importlib-metadata->dash)\n",
      "  Downloading zipp-3.19.2-py3-none-any.whl.metadata (3.6 kB)\n",
      "Requirement already satisfied: charset-normalizer<4,>=2 in c:\\users\\saturn\\appdata\\local\\programs\\python\\python312\\lib\\site-packages (from requests->dash) (3.3.2)\n",
      "Requirement already satisfied: idna<4,>=2.5 in c:\\users\\saturn\\appdata\\local\\programs\\python\\python312\\lib\\site-packages (from requests->dash) (3.7)\n",
      "Requirement already satisfied: urllib3<3,>=1.21.1 in c:\\users\\saturn\\appdata\\local\\programs\\python\\python312\\lib\\site-packages (from requests->dash) (2.2.1)\n",
      "Requirement already satisfied: certifi>=2017.4.17 in c:\\users\\saturn\\appdata\\local\\programs\\python\\python312\\lib\\site-packages (from requests->dash) (2024.2.2)\n",
      "Requirement already satisfied: six>=1.7.0 in c:\\users\\saturn\\appdata\\local\\programs\\python\\python312\\lib\\site-packages (from retrying->dash) (1.16.0)\n",
      "Requirement already satisfied: colorama in c:\\users\\saturn\\appdata\\local\\programs\\python\\python312\\lib\\site-packages (from click>=8.1.3->Flask<3.1,>=1.0.4->dash) (0.4.6)\n",
      "Using cached dash-2.17.1-py3-none-any.whl (7.5 MB)\n",
      "Using cached dash_core_components-2.0.0-py3-none-any.whl (3.8 kB)\n",
      "Using cached dash_html_components-2.0.0-py3-none-any.whl (4.1 kB)\n",
      "Using cached dash_table-5.0.0-py3-none-any.whl (3.9 kB)\n",
      "Using cached flask-3.0.3-py3-none-any.whl (101 kB)\n",
      "Using cached werkzeug-3.0.3-py3-none-any.whl (227 kB)\n",
      "Using cached importlib_metadata-7.2.1-py3-none-any.whl (25 kB)\n",
      "Using cached retrying-1.3.4-py3-none-any.whl (11 kB)\n",
      "Using cached blinker-1.8.2-py3-none-any.whl (9.5 kB)\n",
      "Using cached click-8.1.7-py3-none-any.whl (97 kB)\n",
      "Using cached itsdangerous-2.2.0-py3-none-any.whl (16 kB)\n",
      "Downloading zipp-3.19.2-py3-none-any.whl (9.0 kB)\n",
      "Installing collected packages: dash-table, dash-html-components, dash-core-components, zipp, Werkzeug, retrying, itsdangerous, click, blinker, importlib-metadata, Flask, dash\n",
      "Successfully installed Flask-3.0.3 Werkzeug-3.0.3 blinker-1.8.2 click-8.1.7 dash-2.17.1 dash-core-components-2.0.0 dash-html-components-2.0.0 dash-table-5.0.0 importlib-metadata-7.2.1 itsdangerous-2.2.0 retrying-1.3.4 zipp-3.19.2\n"
     ]
    }
   ],
   "source": [
    "!C:\\Users\\saturn\\AppData\\Local\\Programs\\Python\\Python312\\python.exe -m pip install dash\n"
   ]
  },
  {
   "cell_type": "code",
   "execution_count": 19,
   "id": "d5f5977e-6274-48a6-a5e2-ed14d3ac46d3",
   "metadata": {},
   "outputs": [
    {
     "name": "stdout",
     "output_type": "stream",
     "text": [
      "Name: dash\n",
      "Version: 2.17.1\n",
      "Summary: A Python framework for building reactive web-apps. Developed by Plotly.\n",
      "Home-page: https://plotly.com/dash\n",
      "Author: Chris Parmer\n",
      "Author-email: chris@plotly.com\n",
      "License: MIT\n",
      "Location: C:\\Users\\saturn\\AppData\\Local\\Programs\\Python\\Python312\\Lib\\site-packages\n",
      "Requires: dash-core-components, dash-html-components, dash-table, Flask, importlib-metadata, nest-asyncio, plotly, requests, retrying, setuptools, typing-extensions, Werkzeug\n",
      "Required-by: \n"
     ]
    }
   ],
   "source": [
    "!C:\\Users\\saturn\\AppData\\Local\\Programs\\Python\\Python312\\python.exe -m pip show dash\n"
   ]
  }
 ],
 "metadata": {
  "kernelspec": {
   "display_name": "Python 3 (ipykernel)",
   "language": "python",
   "name": "python3"
  },
  "language_info": {
   "codemirror_mode": {
    "name": "ipython",
    "version": 3
   },
   "file_extension": ".py",
   "mimetype": "text/x-python",
   "name": "python",
   "nbconvert_exporter": "python",
   "pygments_lexer": "ipython3",
   "version": "3.12.4"
  }
 },
 "nbformat": 4,
 "nbformat_minor": 5
}
